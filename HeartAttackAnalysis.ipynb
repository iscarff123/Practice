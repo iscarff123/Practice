{
  "nbformat": 4,
  "nbformat_minor": 0,
  "metadata": {
    "colab": {
      "name": "HeartAttackAnalysis.ipynb",
      "provenance": [],
      "authorship_tag": "ABX9TyN5anqZFN0+lGJy5HqeknJ5",
      "include_colab_link": true
    },
    "kernelspec": {
      "name": "python3",
      "display_name": "Python 3"
    },
    "language_info": {
      "name": "python"
    }
  },
  "cells": [
    {
      "cell_type": "markdown",
      "metadata": {
        "id": "view-in-github",
        "colab_type": "text"
      },
      "source": [
        "<a href=\"https://colab.research.google.com/github/iscarff123/Practice/blob/main/HeartAttackAnalysis.ipynb\" target=\"_parent\"><img src=\"https://colab.research.google.com/assets/colab-badge.svg\" alt=\"Open In Colab\"/></a>"
      ]
    },
    {
      "cell_type": "markdown",
      "metadata": {
        "id": "Lw7SakbHMp4M"
      },
      "source": [
        "# Heart Attack Analysis & Prediction"
      ]
    },
    {
      "cell_type": "markdown",
      "metadata": {
        "id": "tVcdeEaPMwhg"
      },
      "source": [
        "The purpose for this notebook is for me to practice and relearn my data science skills in python."
      ]
    },
    {
      "cell_type": "markdown",
      "metadata": {
        "id": "5ajpaToRM9E3"
      },
      "source": [
        "For this notebook, I will be analyzing the Heart Attack Analysis & Prediction dataset found on Kaggle.\n",
        "\n",
        "https://www.kaggle.com/rashikrahmanpritom/heart-attack-analysis-prediction-dataset?select=heart.csv"
      ]
    },
    {
      "cell_type": "code",
      "metadata": {
        "id": "OXbbLc4DMvvn"
      },
      "source": [
        ""
      ],
      "execution_count": null,
      "outputs": []
    }
  ]
}